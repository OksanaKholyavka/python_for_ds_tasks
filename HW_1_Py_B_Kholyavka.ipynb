{
  "cells": [
    {
      "cell_type": "markdown",
      "id": "08f1c51f",
      "metadata": {
        "pycharm": {
          "name": "#%% md\n"
        },
        "id": "08f1c51f"
      },
      "source": [
        "# Домашнє завдання до теми \"Python Basics\"\n",
        "В цьому ДЗ важливою умовою виконання завдань є те, що ми не імпортуємо жодних бібліотек, а робимо все на чистому Python, використовуючи лише базовий функціонал. Це необхідно аби відпрацювати роботу з базовими типами даних. А використовувати бібліотеки ми ще навчимось далі :)"
      ]
    },
    {
      "cell_type": "markdown",
      "id": "0f3e7772",
      "metadata": {
        "pycharm": {
          "name": "#%% md\n"
        },
        "id": "0f3e7772"
      },
      "source": [
        "## Робота з числами та арифметичними операторами"
      ]
    },
    {
      "cell_type": "markdown",
      "id": "b2a2e2a5",
      "metadata": {
        "ExecuteTime": {
          "end_time": "2023-05-26T10:30:07.427381Z",
          "start_time": "2023-05-26T10:30:07.416247Z"
        },
        "id": "b2a2e2a5"
      },
      "source": [
        "1.Створіть змінну, яка буде зберігати кількість яблук. І надайте їй значення 5. Виведіть значення змінної на екран."
      ]
    },
    {
      "cell_type": "code",
      "execution_count": null,
      "id": "c2b60bbe",
      "metadata": {
        "ExecuteTime": {
          "end_time": "2023-05-26T10:11:10.553841Z",
          "start_time": "2023-05-26T10:11:10.550848Z"
        },
        "id": "c2b60bbe"
      },
      "outputs": [],
      "source": [
        "kilkist_yabluk = 5"
      ]
    },
    {
      "cell_type": "code",
      "execution_count": null,
      "id": "42a06393",
      "metadata": {
        "id": "42a06393",
        "outputId": "780abe78-2f63-4a2d-fc8e-d626b8045308"
      },
      "outputs": [
        {
          "data": {
            "text/plain": [
              "5"
            ]
          },
          "execution_count": 2,
          "metadata": {},
          "output_type": "execute_result"
        }
      ],
      "source": [
        "kilkist_yabluk"
      ]
    },
    {
      "cell_type": "markdown",
      "id": "22291667",
      "metadata": {
        "id": "22291667"
      },
      "source": [
        "2.Виведіть тип змінної, створеної в завданні (1)."
      ]
    },
    {
      "cell_type": "code",
      "execution_count": null,
      "id": "7982a09a",
      "metadata": {
        "id": "7982a09a",
        "outputId": "c2a3738e-4277-41e3-a6f0-cd2245cedb20"
      },
      "outputs": [
        {
          "data": {
            "text/plain": [
              "int"
            ]
          },
          "execution_count": 2,
          "metadata": {},
          "output_type": "execute_result"
        }
      ],
      "source": [
        "type(kilkist_yabluk)"
      ]
    },
    {
      "cell_type": "markdown",
      "id": "d43e1e57",
      "metadata": {
        "id": "d43e1e57"
      },
      "source": [
        "3.Додайте до значення змінної, створеної в завданні (1) число `12` і виведіть результат на екран з допомогою команди `print()`."
      ]
    },
    {
      "cell_type": "code",
      "execution_count": null,
      "id": "42729777",
      "metadata": {
        "id": "42729777"
      },
      "outputs": [],
      "source": [
        "kilkist_yabluk = kilkist_yabluk + 12\n"
      ]
    },
    {
      "cell_type": "code",
      "execution_count": null,
      "id": "3eeb527f",
      "metadata": {
        "id": "3eeb527f",
        "outputId": "ee9a63c6-1ae4-4dcc-ed33-02d824eb09d8"
      },
      "outputs": [
        {
          "name": "stdout",
          "output_type": "stream",
          "text": [
            "17\n"
          ]
        }
      ],
      "source": [
        "print(kilkist_yabluk)"
      ]
    },
    {
      "cell_type": "markdown",
      "id": "0be48f79",
      "metadata": {
        "pycharm": {
          "name": "#%% md\n"
        },
        "id": "0be48f79"
      },
      "source": [
        "4.Створіть змінні `a`, `b`, `c` та `d`, задайте їм значення відповідно 101, 210, 111, 402, та обчисліть з допомогою Python наступний вираз:  $$ \\frac{(a+b) * c}{d} $$\n",
        "\n",
        "**Важливо**: тут ми маємо обчислити значення саме з використанням змінних, а не просто чисел, як би ми робили у калькуряторі. Змінні потрібні аби за бажання ми могли змінити їх значення та не переписувати код обчислення виразу, бо він буде працювати для різних значень змінних."
      ]
    },
    {
      "cell_type": "code",
      "execution_count": null,
      "id": "9d7e1690",
      "metadata": {
        "pycharm": {
          "name": "#%%\n"
        },
        "id": "9d7e1690",
        "outputId": "408e3d7e-a7c7-4d73-99cc-f4166f1d8091"
      },
      "outputs": [
        {
          "name": "stdout",
          "output_type": "stream",
          "text": [
            "85.8731343283582\n"
          ]
        }
      ],
      "source": [
        "a = 101\n",
        "b = 210\n",
        "c = 111\n",
        "d = 402\n",
        "k = (a + b)*c/d\n",
        "print(k)\n"
      ]
    },
    {
      "cell_type": "markdown",
      "id": "b4183f4f",
      "metadata": {
        "pycharm": {
          "name": "#%% md\n"
        },
        "id": "b4183f4f"
      },
      "source": [
        "Очікувана відповідь: 85.8731343283582"
      ]
    },
    {
      "cell_type": "markdown",
      "id": "1e9d3655",
      "metadata": {
        "id": "1e9d3655"
      },
      "source": [
        "5.Якою буде остача від ділення числа 11283 на 89? Обчисліть з допомогою Python."
      ]
    },
    {
      "cell_type": "code",
      "execution_count": null,
      "id": "def00fa0",
      "metadata": {
        "id": "def00fa0"
      },
      "outputs": [],
      "source": [
        "h = 11283 % 89"
      ]
    },
    {
      "cell_type": "code",
      "execution_count": null,
      "id": "99996207",
      "metadata": {
        "id": "99996207",
        "outputId": "795d75dc-244c-4360-c6d1-1a3c1d4ea84d"
      },
      "outputs": [
        {
          "name": "stdout",
          "output_type": "stream",
          "text": [
            "69\n"
          ]
        }
      ],
      "source": [
        "print(h)"
      ]
    },
    {
      "cell_type": "markdown",
      "id": "bd2491e2",
      "metadata": {
        "id": "bd2491e2"
      },
      "source": [
        "6.Скільки цілих разів поміститься число 89 в 11283? (Або що те саме: який буде результат цілочисельного ділення 11283 на 89?)"
      ]
    },
    {
      "cell_type": "code",
      "execution_count": null,
      "id": "02e0c7b3",
      "metadata": {
        "id": "02e0c7b3"
      },
      "outputs": [],
      "source": [
        "g = 11283 // 89"
      ]
    },
    {
      "cell_type": "code",
      "execution_count": null,
      "id": "e8ba174a",
      "metadata": {
        "id": "e8ba174a",
        "outputId": "856a817d-e4ad-41a5-ed97-549f5334e8ac"
      },
      "outputs": [
        {
          "name": "stdout",
          "output_type": "stream",
          "text": [
            "126\n"
          ]
        }
      ],
      "source": [
        "print(g)"
      ]
    },
    {
      "cell_type": "markdown",
      "id": "676db6ee",
      "metadata": {
        "ExecuteTime": {
          "end_time": "2022-10-15T22:38:58.278123Z",
          "start_time": "2022-10-15T22:38:58.274895Z"
        },
        "pycharm": {
          "name": "#%% md\n"
        },
        "id": "676db6ee"
      },
      "source": [
        "# Робота з рядками"
      ]
    },
    {
      "cell_type": "markdown",
      "id": "60423850",
      "metadata": {
        "pycharm": {
          "name": "#%% md\n"
        },
        "id": "60423850"
      },
      "source": [
        "7.Запишіть у змінну `name` ваше імʼя."
      ]
    },
    {
      "cell_type": "code",
      "execution_count": null,
      "id": "473006f4",
      "metadata": {
        "pycharm": {
          "name": "#%%\n"
        },
        "id": "473006f4"
      },
      "outputs": [],
      "source": [
        "name = \"Oksana\""
      ]
    },
    {
      "cell_type": "markdown",
      "id": "4b3acd9d",
      "metadata": {
        "pycharm": {
          "name": "#%% md\n"
        },
        "id": "4b3acd9d"
      },
      "source": [
        "8.Запишіть у змінну `surname` ваше прізвище."
      ]
    },
    {
      "cell_type": "code",
      "execution_count": null,
      "id": "c5defe1b",
      "metadata": {
        "pycharm": {
          "name": "#%%\n"
        },
        "id": "c5defe1b"
      },
      "outputs": [],
      "source": [
        "surname = \"Kholyavka\""
      ]
    },
    {
      "cell_type": "markdown",
      "id": "ab162f8e",
      "metadata": {
        "pycharm": {
          "name": "#%% md\n"
        },
        "id": "ab162f8e"
      },
      "source": [
        "9.Сконкатенуйте імʼя та прізвище в одну фразу через пробіл. Запишіть результат у нову змінну `name_surname` та виведіть результат на екран.  "
      ]
    },
    {
      "cell_type": "code",
      "execution_count": null,
      "id": "522d3253",
      "metadata": {
        "pycharm": {
          "name": "#%%\n"
        },
        "id": "522d3253"
      },
      "outputs": [],
      "source": [
        "name_surname = name + \" \" + surname"
      ]
    },
    {
      "cell_type": "code",
      "execution_count": null,
      "id": "b49850cd",
      "metadata": {
        "id": "b49850cd",
        "outputId": "be5ac1a4-810e-4020-a1e9-87ea7932ca61"
      },
      "outputs": [
        {
          "data": {
            "text/plain": [
              "'Oksana Kholyavka'"
            ]
          },
          "execution_count": 26,
          "metadata": {},
          "output_type": "execute_result"
        }
      ],
      "source": [
        "name_surname"
      ]
    },
    {
      "cell_type": "markdown",
      "id": "77e679dd",
      "metadata": {
        "pycharm": {
          "name": "#%% md\n"
        },
        "id": "77e679dd"
      },
      "source": [
        "Очікувана відповідь (тільки з вашими даними): 'Hanna Pylieva' "
      ]
    },
    {
      "cell_type": "markdown",
      "id": "e68adcf7",
      "metadata": {
        "pycharm": {
          "name": "#%% md\n"
        },
        "id": "e68adcf7"
      },
      "source": [
        "10.Зробіть усі літери змінної `name_surname` заглавними використовуючи метод рядків в Python:"
      ]
    },
    {
      "cell_type": "code",
      "execution_count": null,
      "id": "1047cda3",
      "metadata": {
        "pycharm": {
          "name": "#%%\n"
        },
        "id": "1047cda3",
        "outputId": "3510e6ca-9db9-4ef2-a0b6-02b9355b03c0"
      },
      "outputs": [
        {
          "data": {
            "text/plain": [
              "'OKSANA KHOLYAVKA'"
            ]
          },
          "execution_count": 25,
          "metadata": {},
          "output_type": "execute_result"
        }
      ],
      "source": [
        "name_surname.upper()"
      ]
    },
    {
      "cell_type": "markdown",
      "id": "20a20420",
      "metadata": {
        "pycharm": {
          "name": "#%% md\n"
        },
        "id": "20a20420"
      },
      "source": [
        "Очікувана відповідь (тільки з вашими даними): 'HANNA PYLIEVA'"
      ]
    },
    {
      "cell_type": "markdown",
      "id": "e7e1c7ae",
      "metadata": {
        "pycharm": {
          "name": "#%% md\n"
        },
        "id": "e7e1c7ae"
      },
      "source": [
        "11.Виведіть третю літеру вашого `name_surname`. Тут уважно, треба саме третя літера. Згадайте, з якого значення починається індексування значень в Python."
      ]
    },
    {
      "cell_type": "code",
      "execution_count": null,
      "id": "191baf85",
      "metadata": {
        "pycharm": {
          "name": "#%%\n"
        },
        "id": "191baf85",
        "outputId": "32bde702-8213-42ca-94a3-4db64d029dc1"
      },
      "outputs": [
        {
          "data": {
            "text/plain": [
              "'s'"
            ]
          },
          "execution_count": 21,
          "metadata": {},
          "output_type": "execute_result"
        }
      ],
      "source": [
        "name_surname[2]"
      ]
    },
    {
      "cell_type": "markdown",
      "id": "181c489d",
      "metadata": {
        "pycharm": {
          "name": "#%% md\n"
        },
        "id": "181c489d"
      },
      "source": [
        "Очікувана відповідь (тільки з вашими даними): 'n'"
      ]
    },
    {
      "cell_type": "markdown",
      "id": "1f3cc1a7",
      "metadata": {
        "pycharm": {
          "name": "#%% md\n"
        },
        "id": "1f3cc1a7"
      },
      "source": [
        "12.Виведіть першу та останню літеру вашого прізвища."
      ]
    },
    {
      "cell_type": "code",
      "execution_count": null,
      "id": "1a4ffd8b",
      "metadata": {
        "pycharm": {
          "name": "#%%\n"
        },
        "id": "1a4ffd8b",
        "outputId": "74e91d37-41dc-4d21-da45-3eb623424dee"
      },
      "outputs": [
        {
          "data": {
            "text/plain": [
              "('K', 'a')"
            ]
          },
          "execution_count": 24,
          "metadata": {},
          "output_type": "execute_result"
        }
      ],
      "source": [
        "surname[0], surname[8]"
      ]
    },
    {
      "cell_type": "markdown",
      "id": "df1b4a52",
      "metadata": {
        "pycharm": {
          "name": "#%% md\n"
        },
        "id": "df1b4a52"
      },
      "source": [
        "Очікувана відповідь (тільки з вашими даними): ('P', 'a')"
      ]
    },
    {
      "cell_type": "markdown",
      "id": "0ad4f21f",
      "metadata": {
        "pycharm": {
          "name": "#%% md\n"
        },
        "id": "0ad4f21f"
      },
      "source": [
        "13.Виведіть довжину вашого прізвища."
      ]
    },
    {
      "cell_type": "code",
      "execution_count": null,
      "id": "8aadf013",
      "metadata": {
        "pycharm": {
          "name": "#%%\n"
        },
        "id": "8aadf013",
        "outputId": "cc4bce16-c62e-4279-93fc-1244c6467304"
      },
      "outputs": [
        {
          "data": {
            "text/plain": [
              "9"
            ]
          },
          "execution_count": 27,
          "metadata": {},
          "output_type": "execute_result"
        }
      ],
      "source": [
        "len(surname)"
      ]
    },
    {
      "cell_type": "markdown",
      "id": "ec1a8d38",
      "metadata": {
        "pycharm": {
          "name": "#%% md\n"
        },
        "id": "ec1a8d38"
      },
      "source": [
        "Очікувана відповідь (тільки з вашими даними): 7"
      ]
    },
    {
      "cell_type": "markdown",
      "id": "fc4ee632",
      "metadata": {
        "pycharm": {
          "name": "#%% md\n"
        },
        "id": "fc4ee632"
      },
      "source": [
        "14.Виведіть кількість літер `a` у столиці Мадагаскару `Antananarivo`. Важливо врахувати всі літери, як великі, так і маленькі."
      ]
    },
    {
      "cell_type": "code",
      "execution_count": 17,
      "id": "4c83c237",
      "metadata": {
        "pycharm": {
          "name": "#%%\n"
        },
        "colab": {
          "base_uri": "https://localhost:8080/"
        },
        "id": "4c83c237",
        "outputId": "a878c4ed-054d-45a1-f143-528badcdce27"
      },
      "outputs": [
        {
          "output_type": "stream",
          "name": "stdout",
          "text": [
            "4\n"
          ]
        }
      ],
      "source": [
        "slovo = \"Antananarivo\"\n",
        "s_1 = slovo.count('A')\n",
        "s_2 = slovo.count('a')\n",
        "print(s_1 + s_2)"
      ]
    },
    {
      "cell_type": "markdown",
      "id": "3b822954",
      "metadata": {
        "pycharm": {
          "name": "#%% md\n"
        },
        "id": "3b822954"
      },
      "source": [
        "Очікувана відповідь: 4"
      ]
    },
    {
      "cell_type": "markdown",
      "id": "3d7ff9aa",
      "metadata": {
        "ExecuteTime": {
          "end_time": "2023-05-28T22:53:18.824389Z",
          "start_time": "2023-05-28T22:53:18.816117Z"
        },
        "id": "3d7ff9aa"
      },
      "source": [
        ":15.Створіть рядок `my_string` зі значенням: \"The quick brown fox jumps over the lazy dog!!!\".   \n",
        "Перевірте, чи починається рядок `my_string` з \"The\" і чи закінчується він \"dog!\". Виведіть результати на екран."
      ]
    },
    {
      "cell_type": "code",
      "execution_count": 16,
      "id": "00c6af56",
      "metadata": {
        "colab": {
          "base_uri": "https://localhost:8080/",
          "height": 54
        },
        "id": "00c6af56",
        "outputId": "46ea6731-f6cd-4f8e-8178-cef0d6081575"
      },
      "outputs": [
        {
          "output_type": "display_data",
          "data": {
            "text/plain": [
              "False"
            ]
          },
          "metadata": {}
        },
        {
          "output_type": "display_data",
          "data": {
            "text/plain": [
              "False"
            ]
          },
          "metadata": {}
        }
      ],
      "source": [
        "my_string = \"The quck brown fox jumps over the lazy dog!!!\"\n",
        "r_1 = my_string.startswith(\"The\")\n",
        "r_2 = my_string.endswith(\"dog!\")\n",
        "display(r_1, r_2)"
      ]
    },
    {
      "cell_type": "markdown",
      "id": "49725d46",
      "metadata": {
        "id": "49725d46"
      },
      "source": [
        "16.Розділіть рядок `my_string` на список слів, а потім з'єднайте всі слова через нижнє підкреслювання. Виведіть результат на екран."
      ]
    },
    {
      "cell_type": "code",
      "execution_count": 23,
      "id": "13e3d90a",
      "metadata": {
        "colab": {
          "base_uri": "https://localhost:8080/"
        },
        "id": "13e3d90a",
        "outputId": "e4a4cbcc-eb4e-4476-c07d-3bd5c6800c7b"
      },
      "outputs": [
        {
          "output_type": "stream",
          "name": "stdout",
          "text": [
            "The_quck_brown_fox_jumps_over_the_lazy_dog!!!\n"
          ]
        }
      ],
      "source": [
        "my_string = \"The quck brown fox jumps over the lazy dog!!!\"\n",
        "my_string_new = my_string.split(\" \")\n",
        "print('_'.join(my_string_new))"
      ]
    },
    {
      "cell_type": "markdown",
      "id": "5803bd7c",
      "metadata": {
        "id": "5803bd7c"
      },
      "source": [
        "Очікуваний результат: `The_quick_brown_fox_jumps_over_the_lazy_dog!!!`"
      ]
    },
    {
      "cell_type": "markdown",
      "id": "8365109c",
      "metadata": {
        "pycharm": {
          "name": "#%% md\n"
        },
        "id": "8365109c"
      },
      "source": [
        "# Робота зі колекціями"
      ]
    },
    {
      "cell_type": "markdown",
      "id": "efd4a344",
      "metadata": {
        "pycharm": {
          "name": "#%% md\n"
        },
        "id": "efd4a344"
      },
      "source": [
        "У нас є наступний список:"
      ]
    },
    {
      "cell_type": "code",
      "execution_count": null,
      "metadata": {
        "ExecuteTime": {
          "end_time": "2023-05-28T22:45:54.832906Z",
          "start_time": "2023-05-28T22:45:54.827613Z"
        },
        "pycharm": {
          "name": "#%%\n"
        },
        "id": "BikpFCyS9Tsq"
      },
      "outputs": [],
      "source": [
        "my_list = [\n",
        "    78, 12, 14, 27, 47, 28, 51, 46, 94, 37, 42, 20, 52, 33, 11, 11, 51,\n",
        "    20, 81, 54, 86, 51, 38, 42, 49, 99, 76, 17,  9, 23, 97, 29, 29, 63,\n",
        "    40, 11, 31, 76, 15, 21, 29, 75, 35,  2, 10, 71, 17, 10, 13,  7, 44,\n",
        "    12, 19, 61, 13, 25, 62, 46, 10, 44, 75, 57, 20, 57,  3, 44, 16, 28,\n",
        "    79, 57, 62, 70, 95,  8, 47, 82, 80, 45, 36, 44, 79, 95, 73, 42, 29,\n",
        "    83, 80, 66, 56,  8, 73,  5, 99, 65, 65, 98, 17, 36, 16, 60\n",
        "]"
      ],
      "id": "BikpFCyS9Tsq"
    },
    {
      "cell_type": "markdown",
      "id": "77d55ecf",
      "metadata": {
        "pycharm": {
          "name": "#%% md\n"
        },
        "id": "77d55ecf"
      },
      "source": [
        "Будемо з ним працювати в наступних завданнях."
      ]
    },
    {
      "cell_type": "markdown",
      "id": "7a9d114b",
      "metadata": {
        "pycharm": {
          "name": "#%% md\n"
        },
        "id": "7a9d114b"
      },
      "source": [
        "17.Виведіть 5 перших елементів списку `my_list` з допомогою слайсингу."
      ]
    },
    {
      "cell_type": "code",
      "execution_count": 23,
      "id": "1a6e26e9",
      "metadata": {
        "pycharm": {
          "name": "#%%\n"
        },
        "colab": {
          "base_uri": "https://localhost:8080/"
        },
        "id": "1a6e26e9",
        "outputId": "2451c4ba-f19e-4de8-e039-65a14d73c910"
      },
      "outputs": [
        {
          "output_type": "execute_result",
          "data": {
            "text/plain": [
              "[78, 12, 14, 27, 47]"
            ]
          },
          "metadata": {},
          "execution_count": 23
        }
      ],
      "source": [
        "my_list[:5]"
      ]
    },
    {
      "cell_type": "markdown",
      "id": "0c995ae4",
      "metadata": {
        "pycharm": {
          "name": "#%% md\n"
        },
        "id": "0c995ae4"
      },
      "source": [
        "Очікувана відповідь: [78, 12, 14, 27, 47]"
      ]
    },
    {
      "cell_type": "markdown",
      "id": "3cd8551a",
      "metadata": {
        "ExecuteTime": {
          "end_time": "2023-05-28T22:46:26.546845Z",
          "start_time": "2023-05-28T22:46:26.540558Z"
        },
        "id": "3cd8551a"
      },
      "source": [
        "18.Виведіть 3 останніх елементи списку `my_list` з допомогою слайсингу."
      ]
    },
    {
      "cell_type": "code",
      "execution_count": 24,
      "id": "1f19fd19",
      "metadata": {
        "colab": {
          "base_uri": "https://localhost:8080/"
        },
        "id": "1f19fd19",
        "outputId": "ac05af55-81dd-4460-d890-55ddbef1cee8"
      },
      "outputs": [
        {
          "output_type": "execute_result",
          "data": {
            "text/plain": [
              "[36, 16, 60]"
            ]
          },
          "metadata": {},
          "execution_count": 24
        }
      ],
      "source": [
        "my_list[-3:]"
      ]
    },
    {
      "cell_type": "markdown",
      "id": "58a98ef0",
      "metadata": {
        "pycharm": {
          "name": "#%% md\n"
        },
        "id": "58a98ef0"
      },
      "source": [
        "19.Виведіть максимальний і мінімальний елемент у списку. Сформуйте відповідь у наступному форматі\n",
        "```\n",
        "Max element  <число>\n",
        "Max element  <число>\n",
        "```"
      ]
    },
    {
      "cell_type": "code",
      "execution_count": 32,
      "id": "008f459c",
      "metadata": {
        "pycharm": {
          "name": "#%%\n"
        },
        "colab": {
          "base_uri": "https://localhost:8080/"
        },
        "id": "008f459c",
        "outputId": "8bdf15d3-8550-4ea6-8873-8338a5a1e37d"
      },
      "outputs": [
        {
          "output_type": "stream",
          "name": "stdout",
          "text": [
            "Max element 99\n",
            "Max element 2\n"
          ]
        }
      ],
      "source": [
        "print(\"Max element\",  max(my_list))\n",
        "print(\"Max element\",  min(my_list))"
      ]
    },
    {
      "cell_type": "markdown",
      "id": "c19c1cf7",
      "metadata": {
        "pycharm": {
          "name": "#%% md\n"
        },
        "id": "c19c1cf7"
      },
      "source": [
        "Очікувана відповідь: \n",
        "\n",
        "```\n",
        "Max element  99\n",
        "Max element  2\n",
        "```"
      ]
    },
    {
      "cell_type": "markdown",
      "id": "4e43e698",
      "metadata": {
        "pycharm": {
          "name": "#%% md\n"
        },
        "id": "4e43e698"
      },
      "source": [
        "20.Створіть новий список `my_list_2`, який містить кожен 11-й елемент списку `my_list`. Виведіть `my_list_2` на екран.  \n",
        "Памʼятаємо, що перший з \"кожного одинадцятого улементу\" списку має індекс 10.\n",
        "Це завдання можна виконати як з використанням циклів, так і з використанням слайсингу."
      ]
    },
    {
      "cell_type": "code",
      "execution_count": 37,
      "id": "5b4c4729",
      "metadata": {
        "pycharm": {
          "name": "#%%\n"
        },
        "colab": {
          "base_uri": "https://localhost:8080/"
        },
        "id": "5b4c4729",
        "outputId": "eceb61b3-63b1-42c3-9e0c-6581a1cc991d"
      },
      "outputs": [
        {
          "output_type": "stream",
          "name": "stdout",
          "text": [
            "[42, 51, 29, 2, 13, 44, 80, 66, 16]\n"
          ]
        }
      ],
      "source": [
        "my_list_2 = my_list[10:120:11]\n",
        "print(my_list_2)"
      ]
    },
    {
      "cell_type": "markdown",
      "id": "0c734831",
      "metadata": {
        "ExecuteTime": {
          "end_time": "2023-01-20T20:10:37.303981Z",
          "start_time": "2023-01-20T20:10:37.275706Z"
        },
        "pycharm": {
          "name": "#%%\n"
        },
        "id": "0c734831"
      },
      "source": [
        "Очікуваний результат: `[42, 51, 29, 2, 13, 44, 80, 66, 16]`"
      ]
    },
    {
      "cell_type": "markdown",
      "id": "60fab123",
      "metadata": {
        "id": "60fab123"
      },
      "source": [
        "## ВИ - МОЛОДЕЦЬ! ЗРОБИЛИ 20 ЗАВДАНЬ!\n",
        "Далі завдання будуть трохи складніше. Деколи в завданнях треба буде написати цикл або list comprehension. Але я впевнена, що у Вас все вийде!"
      ]
    },
    {
      "cell_type": "markdown",
      "id": "fca24ff1",
      "metadata": {
        "pycharm": {
          "name": "#%% md\n"
        },
        "id": "fca24ff1"
      },
      "source": [
        "21.Створіть новий список `my_list_2_squared`, де кожен елемент списку `my_list_2` є піднесеним до степіня 2. "
      ]
    },
    {
      "cell_type": "code",
      "execution_count": 45,
      "id": "e29f5e82",
      "metadata": {
        "colab": {
          "base_uri": "https://localhost:8080/"
        },
        "id": "e29f5e82",
        "outputId": "8ae618ba-0852-49cb-af51-e02332ec206c"
      },
      "outputs": [
        {
          "output_type": "stream",
          "name": "stdout",
          "text": [
            "[1764, 2601, 841, 4, 169, 1936, 6400, 4356, 256]\n"
          ]
        }
      ],
      "source": [
        "my_list_2_squared = []\n",
        "for s in my_list_2:\n",
        "  my_list_2_squared.append(s**2)\n",
        "print(my_list_2_squared)"
      ]
    },
    {
      "cell_type": "markdown",
      "id": "0dce0d8e",
      "metadata": {
        "pycharm": {
          "name": "#%% md\n"
        },
        "id": "0dce0d8e"
      },
      "source": [
        "Очікуваний результат: `[1764, 2601, 841, 4, 169, 1936, 6400, 4356, 256]`"
      ]
    },
    {
      "cell_type": "markdown",
      "id": "c267a553",
      "metadata": {
        "pycharm": {
          "name": "#%% md\n"
        },
        "id": "c267a553"
      },
      "source": [
        "22.Знайдіть суму всіх елементів списку `my_list_2` та виведіть її на екран."
      ]
    },
    {
      "cell_type": "code",
      "execution_count": 47,
      "id": "7f37b29f",
      "metadata": {
        "pycharm": {
          "name": "#%%\n"
        },
        "colab": {
          "base_uri": "https://localhost:8080/"
        },
        "id": "7f37b29f",
        "outputId": "abacfa2b-efb8-4380-9090-bb7bfd39a314"
      },
      "outputs": [
        {
          "output_type": "stream",
          "name": "stdout",
          "text": [
            "343\n"
          ]
        }
      ],
      "source": [
        "suma = sum(my_list_2)\n",
        "print(suma)"
      ]
    },
    {
      "cell_type": "markdown",
      "id": "b12acfc2",
      "metadata": {
        "pycharm": {
          "name": "#%% md\n"
        },
        "id": "b12acfc2"
      },
      "source": [
        "23.Знайдіть середнє значення елементів списку `my_list_2`, збережіть результат у змінну `my_list_2_mean`. Виведіть новостворену змінну та ії тип на екран.\n",
        "**Підказка**: середнє значення - це сума елементів поділена на їх кількість. А кількість елементів в списку - це його довжина."
      ]
    },
    {
      "cell_type": "code",
      "execution_count": 54,
      "id": "51fbb32b",
      "metadata": {
        "pycharm": {
          "name": "#%%\n"
        },
        "colab": {
          "base_uri": "https://localhost:8080/"
        },
        "id": "51fbb32b",
        "outputId": "81ac1eed-bdc9-4759-b27a-cfb52fc7489b"
      },
      "outputs": [
        {
          "output_type": "stream",
          "name": "stdout",
          "text": [
            "38.111111111111114\n"
          ]
        },
        {
          "output_type": "execute_result",
          "data": {
            "text/plain": [
              "float"
            ]
          },
          "metadata": {},
          "execution_count": 54
        }
      ],
      "source": [
        "my_list_2_mean = suma/len(my_list_2)\n",
        "print(my_list_2_mean)\n",
        "type(my_list_2_mean)"
      ]
    },
    {
      "cell_type": "markdown",
      "id": "079359aa",
      "metadata": {
        "pycharm": {
          "name": "#%% md\n"
        },
        "id": "079359aa"
      },
      "source": [
        "24.Створіть новий список `my_list_2_gt_mean`, за наступним правилом: \"якщо цей елемент спиcку `my_list_2` є більше за `my_list_2_mean`, то запишемо 1, інакше 0. Виведіть новий список на екран."
      ]
    },
    {
      "cell_type": "code",
      "execution_count": 15,
      "id": "6e69be6f",
      "metadata": {
        "pycharm": {
          "name": "#%%\n"
        },
        "colab": {
          "base_uri": "https://localhost:8080/"
        },
        "id": "6e69be6f",
        "outputId": "c33aa991-28eb-413a-d7c0-acc8f76878f6"
      },
      "outputs": [
        {
          "output_type": "stream",
          "name": "stdout",
          "text": [
            "[1, 1, 0, 0, 0, 1, 1, 1, 0]\n"
          ]
        }
      ],
      "source": [
        "my_list_2 = [42, 51, 29, 2, 13, 44, 80, 66, 16]\n",
        "my_list_2_mean = 38.111111111111114\n",
        "my_list_2_gt_mean = []\n",
        "for s in my_list_2:\n",
        "  if s > my_list_2_mean:\n",
        "     my_list_2_gt_mean.append(1)\n",
        "  else:\n",
        "     my_list_2_gt_mean.append(0)\n",
        "print(my_list_2_gt_mean)\n",
        "\n"
      ]
    },
    {
      "cell_type": "markdown",
      "id": "3079f1e6",
      "metadata": {
        "id": "3079f1e6"
      },
      "source": [
        "Очікуваний результат: `[1, 1, 0, 0, 0, 1, 1, 1, 0]`"
      ]
    },
    {
      "cell_type": "markdown",
      "id": "eef1aae7",
      "metadata": {
        "pycharm": {
          "name": "#%% md\n"
        },
        "id": "eef1aae7"
      },
      "source": [
        "25.Чи є в списку `my_list` елементи, які повторюються? Перевірте це програмно і з допомогою інструкцій `if ... else` виведіть на екран відповідь \"Так, є елементи, які повторюються\", або \"Ні, всі елементи унікальні\".\n",
        "Важливо це зробити без використання імпортів будь-яких бібліотек, на чистому Python так би мовити."
      ]
    },
    {
      "cell_type": "code",
      "execution_count": 3,
      "id": "766170f3",
      "metadata": {
        "pycharm": {
          "name": "#%%\n"
        },
        "colab": {
          "base_uri": "https://localhost:8080/"
        },
        "id": "766170f3",
        "outputId": "aeebf938-4b88-4166-b8d3-502d878804d5"
      },
      "outputs": [
        {
          "output_type": "stream",
          "name": "stdout",
          "text": [
            "Так, є елементи, які повторюються\n"
          ]
        }
      ],
      "source": [
        "my_list = [\n",
        "    78, 12, 14, 27, 47, 28, 51, 46, 94, 37, 42, 20, 52, 33, 11, 11, 51,\n",
        "    20, 81, 54, 86, 51, 38, 42, 49, 99, 76, 17,  9, 23, 97, 29, 29, 63,\n",
        "    40, 11, 31, 76, 15, 21, 29, 75, 35,  2, 10, 71, 17, 10, 13,  7, 44,\n",
        "    12, 19, 61, 13, 25, 62, 46, 10, 44, 75, 57, 20, 57,  3, 44, 16, 28,\n",
        "    79, 57, 62, 70, 95,  8, 47, 82, 80, 45, 36, 44, 79, 95, 73, 42, 29,\n",
        "    83, 80, 66, 56,  8, 73,  5, 99, 65, 65, 98, 17, 36, 16, 60\n",
        "]\n",
        "unikalni = set(my_list)\n",
        "if len(unikalni) == len(my_list):\n",
        "  print(\"Ні, всі елементи унікальні\")\n",
        "else:\n",
        "    print(\"Так, є елементи, які повторюються\")\n"
      ]
    },
    {
      "cell_type": "markdown",
      "id": "cee3dda8",
      "metadata": {
        "pycharm": {
          "name": "#%% md\n"
        },
        "id": "cee3dda8"
      },
      "source": [
        "26.Для кожного унікального елементу списку `my_list` знайдіть, скільки разів він повторюється, та запишіть сукупний результат для всіх елементів (тобто скільки разів повторюється кожен елемент) у змінну `n_repeats`. Виведіть `n_repeats` на екран. \n",
        "\n",
        "**Підказка**: `n_repeats` матиме тип \"словник\". Порядок ключів в словнику не має значення! Тобто ключі в словнику не обовʼязково мають бути в тому ж порядку, як наведено в прикладі результату. Але кількості зустрічань для кожного елемента мають співпадати з наведеними. "
      ]
    },
    {
      "cell_type": "code",
      "execution_count": 33,
      "id": "129111b7",
      "metadata": {
        "pycharm": {
          "name": "#%%\n"
        },
        "colab": {
          "base_uri": "https://localhost:8080/"
        },
        "id": "129111b7",
        "outputId": "3dedf068-98ed-4644-933a-dd4d624187b2"
      },
      "outputs": [
        {
          "output_type": "stream",
          "name": "stdout",
          "text": [
            "{2: 1}, {3: 1}, {5: 1}, {7: 1}, {8: 2}, {9: 1}, {10: 3}, {11: 3}, {12: 2}, {13: 2}, {14: 1}, {15: 1}, {16: 2}, {17: 3}, {19: 1}, {20: 3}, {21: 1}, {23: 1}, {25: 1}, {27: 1}, {28: 2}, {29: 4}, {31: 1}, {33: 1}, {35: 1}, {36: 2}, {37: 1}, {38: 1}, {40: 1}, {42: 3}, {44: 4}, {45: 1}, {46: 2}, {47: 2}, {49: 1}, {51: 3}, {52: 1}, {54: 1}, {56: 1}, {57: 3}, {60: 1}, {61: 1}, {62: 2}, {63: 1}, {65: 2}, {66: 1}, {70: 1}, {71: 1}, {73: 2}, {75: 2}, {76: 2}, {78: 1}, {79: 2}, {80: 2}, {81: 1}, {82: 1}, {83: 1}, {86: 1}, {94: 1}, {95: 2}, {97: 1}, {98: 1}, {99: 2}, "
          ]
        }
      ],
      "source": [
        "my_list = [\n",
        "    78, 12, 14, 27, 47, 28, 51, 46, 94, 37, 42, 20, 52, 33, 11, 11, 51,\n",
        "    20, 81, 54, 86, 51, 38, 42, 49, 99, 76, 17,  9, 23, 97, 29, 29, 63,\n",
        "    40, 11, 31, 76, 15, 21, 29, 75, 35,  2, 10, 71, 17, 10, 13,  7, 44,\n",
        "    12, 19, 61, 13, 25, 62, 46, 10, 44, 75, 57, 20, 57,  3, 44, 16, 28,\n",
        "    79, 57, 62, 70, 95,  8, 47, 82, 80, 45, 36, 44, 79, 95, 73, 42, 29,\n",
        "    83, 80, 66, 56,  8, 73,  5, 99, 65, 65, 98, 17, 36, 16, 60\n",
        "]\n",
        "unikalni = set(my_list)\n",
        "for i in unikalni:\n",
        "  n_repeats = {i : my_list.count(i)}\n",
        "  print(n_repeats, end=', ')  \n"
      ]
    },
    {
      "cell_type": "markdown",
      "id": "9858eefd",
      "metadata": {
        "pycharm": {
          "name": "#%% md\n"
        },
        "id": "9858eefd"
      },
      "source": [
        "Очікуваний результат (три крапки - для скорочення, у вас буде виведений повний набір унікальних елементів): \n",
        "```\n",
        "{2: 1, 3: 1, 5: 1, 7: 1, 8: 2, 9: 1, 10: 3, 11: 3, 12: 2, 13: 2, 14: 1, 15: 1, 16: 2, 17: 3, 19: 1, 20: 3, 21: 1, 23: 1, 25: 1, 27: 1, 28: 2, 29: 4, 31: 1, 33: 1, 35: 1, 36: 2, 37: 1, 38: 1, 40: 1, 42: 3, 44: 4, 45: 1, 46: 2, 47: 2, 49: 1, 51: 3, 52: 1, 54: 1, 56: 1, 57: 3, 60: 1, 61: 1, 62: 2, 63: 1, 65: 2, 66: 1, 70: 1, 71: 1, 73: 2, 75: 2, 76: 2, 78: 1, 79: 2, 80: 2, 81: 1, 82: 1, 83: 1, 86: 1, 94: 1, 95: 2, 97: 1, 98: 1, 99: 2}\n",
        "```"
      ]
    },
    {
      "cell_type": "markdown",
      "id": "10c98ea7",
      "metadata": {
        "pycharm": {
          "name": "#%% md\n"
        },
        "id": "10c98ea7"
      },
      "source": [
        "27.Знайдіть три найменші **унікальні** елементи в списку `my_list`. Збережіть знайдені елементи в змінну `least_3_my_list`. Виведіть значення змінної `least_3_my_list` на екран."
      ]
    },
    {
      "cell_type": "code",
      "execution_count": 35,
      "id": "8cabdfc7",
      "metadata": {
        "pycharm": {
          "name": "#%%\n"
        },
        "colab": {
          "base_uri": "https://localhost:8080/"
        },
        "id": "8cabdfc7",
        "outputId": "00f52dd4-6931-4f2c-e3c8-24bf0fecb0fa"
      },
      "outputs": [
        {
          "output_type": "execute_result",
          "data": {
            "text/plain": [
              "[2, 3, 5]"
            ]
          },
          "metadata": {},
          "execution_count": 35
        }
      ],
      "source": [
        "my_list = [\n",
        "    78, 12, 14, 27, 47, 28, 51, 46, 94, 37, 42, 20, 52, 33, 11, 11, 51,\n",
        "    20, 81, 54, 86, 51, 38, 42, 49, 99, 76, 17,  9, 23, 97, 29, 29, 63,\n",
        "    40, 11, 31, 76, 15, 21, 29, 75, 35,  2, 10, 71, 17, 10, 13,  7, 44,\n",
        "    12, 19, 61, 13, 25, 62, 46, 10, 44, 75, 57, 20, 57,  3, 44, 16, 28,\n",
        "    79, 57, 62, 70, 95,  8, 47, 82, 80, 45, 36, 44, 79, 95, 73, 42, 29,\n",
        "    83, 80, 66, 56,  8, 73,  5, 99, 65, 65, 98, 17, 36, 16, 60\n",
        "]\n",
        "unikalni_list = list(set(my_list))\n",
        "unikalni_list.sort()\n",
        "least_3_my_list = unikalni_list[:3]\n",
        "least_3_my_list"
      ]
    },
    {
      "cell_type": "markdown",
      "id": "672d2981",
      "metadata": {
        "pycharm": {
          "name": "#%% md\n"
        },
        "id": "672d2981"
      },
      "source": [
        "Очікувана відповідь: [2, 3, 5]\n"
      ]
    },
    {
      "cell_type": "markdown",
      "id": "bb70f24a",
      "metadata": {
        "pycharm": {
          "name": "#%% md\n"
        },
        "id": "bb70f24a"
      },
      "source": [
        "# Ураа!! Ви завершили перше домашнє завдання!!!  \n",
        "Аби здати ДЗ - залийте ноутбук у гітхаб репозиторій, який ви створили у перші дні навчання на курсі, та додайте посилання на файл у відповідному завданні в Eduflow.\n",
        "Так тримати! 🚀🚀🚀"
      ]
    }
  ],
  "metadata": {
    "kernelspec": {
      "display_name": "Python 3 (ipykernel)",
      "language": "python",
      "name": "python3"
    },
    "language_info": {
      "codemirror_mode": {
        "name": "ipython",
        "version": 3
      },
      "file_extension": ".py",
      "mimetype": "text/x-python",
      "name": "python",
      "nbconvert_exporter": "python",
      "pygments_lexer": "ipython3",
      "version": "3.10.9"
    },
    "toc": {
      "base_numbering": 1,
      "nav_menu": {},
      "number_sections": true,
      "sideBar": true,
      "skip_h1_title": false,
      "title_cell": "Table of Contents",
      "title_sidebar": "Contents",
      "toc_cell": false,
      "toc_position": {},
      "toc_section_display": true,
      "toc_window_display": false
    },
    "colab": {
      "provenance": [],
      "toc_visible": true
    }
  },
  "nbformat": 4,
  "nbformat_minor": 5
}